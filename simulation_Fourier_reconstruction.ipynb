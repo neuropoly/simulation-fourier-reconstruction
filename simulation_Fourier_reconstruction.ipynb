{
 "cells": [
  {
   "cell_type": "markdown",
   "id": "96677069",
   "metadata": {},
   "source": [
    "<center><h1 style=\"font-family: cambria;font-size:40px;\"> Fourier Transform in MRI:<br> Mathematical theory and related artifacts</h1></center>"
   ]
  },
  {
   "cell_type": "code",
   "execution_count": null,
   "id": "demonstrated-football",
   "metadata": {},
   "outputs": [],
   "source": [
    "# Importing the libraries/functions required to run this notebook\n",
    "\n",
    "import copy\n",
    "import matplotlib.pyplot as plt\n",
    "import matplotlib.image as mpimg\n",
    "import matplotlib\n",
    "matplotlib.rc('image', cmap='gray') # Set default image colormap as gray\n",
    "import numpy as np\n",
    "\n",
    "from numpy.fft import *\n",
    "from utils.fourier_widgets import *"
   ]
  },
  {
   "cell_type": "markdown",
   "id": "3c31074b",
   "metadata": {},
   "source": [
    "# Introduction\n",
    "\n",
    "## Who is Joseph Fourier ?\n",
    "\n",
    "**Jean Baptiste Joseph Fourier** (1768-1830) was a **french mathematician and physicist** that notably investigated the Fourier Series theorem that states that ***any signal can be decomposed into a sum of sinusoidal sub-signals, each having its own frequency, magnitude and phase***. This property later became one of the most fundamental tool for signal processing, especially in Magnetic Resonance Imaging where this duality between the spatial evolution of a signal and its frequency/magnitude/phase components is the bedrock of the image reconstruction process.\n",
    "\n",
    "<figure><center>\n",
    "  <img src=\"./utils/images/Joseph_Fourier.jpg\" alt=\"Joseph Fourier\" style=\"width:20%\">\n",
    "    <figcaption> <i>Joseph Fourier (1768 - 1830)</i> </figcaption></center>\n",
    "</figure>\n",
    "\n",
    "\n",
    "Fourier is notably known for: \n",
    "- Proposing the **Fourier number** (Heat transfer)\n",
    "- Discovering the **Fourier series** (Mathematics)\n",
    "- Proposing the **Fourier Transform** formulas (Mathematics)\n",
    "- Establishing the **Fourier's law of conduction** (Heat transfer)\n",
    "- Proposing the **Fourier-Motzkin elimination** algorithm (Mathematics)\n",
    "- Dicscovering the **greenhouse effect** (Heat transfer)"
   ]
  },
  {
   "cell_type": "markdown",
   "id": "material-emerald",
   "metadata": {},
   "source": [
    "## Fourier series: everything is sinusoidal!\n",
    "As previously mentionned, Fourier demonstrated that any signal can be decomposed into a sum of sinusoidal sub-signals, each having its own **frequency**, **magnitude** and **phase**. \n",
    "\n",
    "The interactive animation below shows how a square signal $s(t)$ can be decomposed in many sinusoids of different frequencies and amplitudes (in this particular example, they all have the same phase):"
   ]
  },
  {
   "cell_type": "code",
   "execution_count": null,
   "id": "c62554a4",
   "metadata": {
    "scrolled": false
   },
   "outputs": [],
   "source": [
    "# Run this cell to load the widget\n",
    "square_signal_decomposition_widget()\n",
    "\n",
    "# If the widget is not responding, run this cell again"
   ]
  },
  {
   "cell_type": "markdown",
   "id": "further-eight",
   "metadata": {},
   "source": [
    "As we can see on the animation, **the more sinusoids we use, the better the square signal is approximated**. This means that perfectly aproaching a square signal would require an infinity of sinusoids, which is obviously impossible to reach in practice. But we will later see that we can still get a good approximation with a finite number of sinusoids.\n",
    "\n",
    "Similarly, **any random signal can be approximated by summing a sufficient amount of sinusoids** (summing the same number of sinusoids as the number of samples in the signal should result in an exact reproduction of the signal). The interactive animation below illustrates this with a randomly generated signal composed of 50 samples:"
   ]
  },
  {
   "cell_type": "code",
   "execution_count": null,
   "id": "e8aeaa59",
   "metadata": {
    "scrolled": false
   },
   "outputs": [],
   "source": [
    "# Run this cell to load the widget\n",
    "random_signal_decomposition_widget()\n",
    "\n",
    "# If the widget is not responding, run this cell again"
   ]
  },
  {
   "cell_type": "markdown",
   "id": "e2e9b652",
   "metadata": {},
   "source": [
    "We indeed see that summing 50 sinusoids results in a perfect representation of the original signal with 50 samples.\n",
    "\n",
    "Note that the first sinusoid is a constant signal (a sin function with 0Hz frequency): It is the $0Hz$ component of the signal and **its value is the mean of the signal**.\n",
    "\n",
    "The sinusoids with the highest frequencies have sharp edges because they are sampled with the same frequency as the signal (they have the same number of points): we don't have any information between the samples. This will be further discussed in the *Aliasing and Nyquist-Shannon theorem* section."
   ]
  },
  {
   "cell_type": "markdown",
   "id": "effective-pontiac",
   "metadata": {},
   "source": [
    "## The Fourier Domain: just another way of seeing things\n",
    "\n",
    "In the Fourier Domain, **each point represents a sinusoidal component of the signal**. \n",
    "\n",
    "The order in which the sinusoids are represented in the Fourier domain is based on the frequency, this is why we sometimes call it the **Frequency domain**.\n",
    "\n",
    "Two different ways of representing the Fourier Domain are commonly used:\n",
    "\n",
    "- The **non-shifted Fourier Domain**: Ranging from low to high frequencies ($Range: [0, F_s]$, $F_s$ being the sampling frequency of the signal),\n",
    "- The **shifted Fourier Domain**: High frequencies are located on the edges of the Fourier Domain, and the 0Hz component (mean) of the signal is represented in the center. ($Range: [-\\frac{F_s}{2}, \\frac{F_s}{2}]$)\n",
    "\n",
    "The Fourier Domain is thus a mathematical representation of a signal in terms of **frequency**. It has a magnitude component and a phase component, it is thus a **complex domain**.\n",
    "\n",
    "The highest frequency represented corresponds to the sampling frequency of the signal. \n",
    "\n",
    "Sometimes, the Fourier Domain is referred to as the **k-space** (we will later see why). This is particularly true in the MRI community.\n",
    "\n",
    "### Fourier transform\n",
    "\n",
    "The Fourier Transform is a very powerful mathematical tool that allows us to go back and forth between the spatial (or temporal) domain and the frequency domain (Fourier Domain). In other words, it switches between the spatial representation of a signal (i.e. an image), and the frequency/phase representation of the signal. These two representations are equivalent, as they relate to the same signal, but they have different utilities. For example, the Fourier domain will come handy when we need to visualize the main frequencies that compose a signal, in order to filter it for example.\n",
    "<br><br>\n",
    "<figure><center>\n",
    "  <img src=\"./utils/images/1D_shift.jpg\" alt=\"Time and frequency domains\" style=\"width:95%\">\n",
    "    <figcaption> <i>Time and frequency domains</i> </figcaption></center>\n",
    "</figure>\n",
    "\n",
    "### Continuous  Fourier Transform\n",
    "\n",
    "For a continuous signal $s$ (infinite number of points), its Fourier transform $S$ will be given by the following formula:\n",
    "\n",
    "$\\large S(f) = \\int\\limits_{-\\infty}^{\\infty}s(t) e^{-i2\\pi ft}dt$\n",
    "\n",
    "Reciprocally, the signal $s$ can be retrieved from $S$ according to the **inverse Fourier Transform** formula:\n",
    "\n",
    "$\\large s(t) = \\int\\limits_{-\\infty}^{\\infty}S(f) e^{i2\\pi ft}df$\n",
    "\n",
    "\n",
    "### Discrete Fourier Transform\n",
    "\n",
    "For a discrete signal $s$ composed of $N$ samples, a similar formula can be written down as:\n",
    "\n",
    "$\\large S(k) = \\sum\\limits_{n=0}^{N-1} s(n)e^{-i2\\pi \\frac{k}{N}n}, \\hspace{5mm} for \\hspace{5mm} 0 \\leqslant k \\ < N $\n",
    "\n",
    "The discrete inverse Fourier Transform formula will then be:\n",
    "\n",
    "$\\large s(n) = \\frac{1}{N}\\sum\\limits_{k=0}^{N-1} S(k)e^{i2\\pi \\frac{n}{N}k} $\n",
    "\n",
    "The most common algorithm to compute the Fourier Transforms of discrete signals is the [***fast Fourier Transform***](https://en.wikipedia.org/wiki/Fast_Fourier_transform), usually reffered to as **FFT**. Here we will use a Python implementation of this algorithm available in the `numpy.fft` package.\n",
    "\n",
    "For a real signal $s$, $S$ will be complex, with both magnitude and phase components being of interest for the processing of the signal.\n",
    "\n",
    "<br>\n",
    "\n",
    "In order to better visualize how all of this works, we will use the example of a signal composed of 3 sinusoids with different amplitudes, frequencies and phases:\n",
    "<br><br>\n",
    "\n",
    "<center>$\\large s_1=\\sin(2\\pi t), \\hspace{5mm} s_2=\\dfrac{\\sin(20 \\pi  t +\\frac{\\pi}{2})}{3},\\hspace{5mm} s_3 = \\dfrac{\\sin(10 \\pi  t +\\pi)}{5}$</center>"
   ]
  },
  {
   "cell_type": "code",
   "execution_count": null,
   "id": "varied-beverage",
   "metadata": {},
   "outputs": [],
   "source": [
    "Fs = 100                                     # Sampling frequency (Hz)\n",
    "t_0 = 0                                      # Sampling starting time (s)\n",
    "t_max = 5                                    # Sampling ending time (s)\n",
    "nb_samples = (t_max - t_0)* Fs               # Number of samples (=500)\n",
    "t = np.linspace(t_0, t_max, nb_samples)      # Creation of the temporal vector (duration: 5 s ; sampling frequency: 100Hz)\n",
    "\n",
    "s1 = np.sin(t * 2 * np.pi)                   # Signal s1 --> Amplitude: 1   a.u. ; Frequency: 1 Hz ; Phase: 0 rad\n",
    "s2 = np.sin(t * 20 * np.pi + np.pi / 2) / 3  # Signal s2 --> Amplitude: 1/3 a.u. ; Frequency: 10  Hz ; Phase: pi/2 rad\n",
    "s3 = np.sin(t * 10 * np.pi + np.pi) / 5       # Signal s3 --> Amplitude: 1/5 a.u. ; Frequency: 5 Hz ; Phase: pi rad\n",
    "s = s1+s2+s3                                 # Signal s (sum of all signals above)\n",
    "\n",
    "plt.figure(figsize=[15,6])\n",
    "plt.plot(t, s1, '--'); plt.plot(t, s2, '--'); plt.plot(t, s3, '--'); plt.plot(t, s, lw=3); plt.title(\"A 1D sampled signal $s(t)$ composed of 3 sinusoids\"); plt.legend([\"$s_1(t)$\", \"$s_2(t)$\", \"$s_3(t)$\", \"$s(t) = s_1(t)+s_2(t)+s_3(t)$\"]); plt.xlabel(\"t (s)\"); plt.ylabel(\"Amplitude (u.a.)\");\n",
    "plt.show()"
   ]
  },
  {
   "cell_type": "markdown",
   "id": "forbidden-russell",
   "metadata": {},
   "source": [
    "### Magnitude spectrum\n",
    "\n",
    "The magnitude spectrum represents the amplitudes associated to each sinusoid component of the signal.\n",
    "\n",
    "- The 0 Hz component of the magnitude spectrum represents the mean of the signal (a constant signal will only have one peak at 0Hz),\n",
    "- The magnitude located at some frequency is the amplitude of the corresponding sinusoid,\n",
    "- If a frequency is not present in the original signal, the corresponding magnitude value in the Fourier Domain will simply be null."
   ]
  },
  {
   "cell_type": "code",
   "execution_count": null,
   "id": "simple-rover",
   "metadata": {},
   "outputs": [],
   "source": [
    "plt.figure(figsize=[16,5])\n",
    "plt.subplot(131); plt.plot(np.linspace(0, Fs, nb_samples),np.abs(fft(s))); plt.title(\"FFT $S$ of $s(t)$ (magnitude)\"); plt.xlabel(\"Frequency (Hz)\"); plt.ylabel(\"Amplitude (a.u.)\")\n",
    "plt.subplot(132); plt.plot(np.linspace(-Fs/2, Fs/2, nb_samples), np.abs(fftshift(fft(s)))); plt.title(\"Shifted FFT $S$ of $s(t)$ (magnitude)\"); plt.xlabel(\"Frequency (Hz)\"); plt.ylabel(\"Amplitude (a.u.)\")\n",
    "plt.subplot(133); plt.plot(np.linspace(0, Fs, nb_samples)[:100], np.abs(fft(s))[:100]); plt.title(\"Zoom in\"); plt.xlabel(\"Frequency (Hz)\"); plt.ylabel(\"Amplitude (a.u.)\")\n",
    "plt.show()"
   ]
  },
  {
   "cell_type": "markdown",
   "id": "extensive-alignment",
   "metadata": {},
   "source": [
    "We see here that we obtain 3 symmetrical peaks. In the shifted Fourier Domain, the **magnitude is an even function**. The reasons behind this symmetry will be investigated later, but it is important to notice that shifting the Fourier spectrum results in switching its second and first halves. \n",
    "\n",
    "For now, we are more interested in the fact that the 3 peaks are located at 3 specific frequencies: $1Hz$, $5Hz$ and $10Hz$.\n",
    "The frequencies correspond to the frequencies of $s_1$, $s_3$ and $s_2$ respectively.\n",
    "The relative amplitudes of the peaks also correspond to $1$, $\\frac{1}{3}$ and $\\frac{1}{5}$ as expected."
   ]
  },
  {
   "cell_type": "markdown",
   "id": "certain-relative",
   "metadata": {},
   "source": [
    "### Phase spectrum\n",
    "\n",
    "For any frequency composing the signal, the corresponding phase value will represent the moment the sinusoid was \"fired out\" compare to a null-phase reference. It is thus very important to know the phase component of the Fourier representation of a signal.\n",
    "\n",
    "- The phase ranges from $-\\pi$ to $\\pi$,\n",
    "- The phase relates to the position of a sinusoid in the signal."
   ]
  },
  {
   "cell_type": "code",
   "execution_count": null,
   "id": "macro-federal",
   "metadata": {},
   "outputs": [],
   "source": [
    "plt.figure(figsize=[16,5])\n",
    "plt.subplot(131)\n",
    "plt.plot(np.linspace(0, Fs, nb_samples),np.angle(fft(s)))\n",
    "plt.title(\"The FFT $S$ of the signal $s(t)$ (phase spectrum)\")\n",
    "plt.xlabel(\"Frequency (Hz)\")\n",
    "plt.ylabel(\"Phase\")\n",
    "\n",
    "plt.subplot(132)\n",
    "plt.plot(np.linspace(-Fs/2, Fs/2, nb_samples), np.angle(fftshift(fft(s))))\n",
    "plt.title(\"Shifted FFT $S$ of the signal $s(t)$ (phase spectrum)\")\n",
    "plt.xlabel(\"Frequency (Hz)\")\n",
    "plt.ylabel(\"Phase\")\n",
    "\n",
    "plt.subplot(133)\n",
    "plt.plot(np.linspace(0, Fs, nb_samples)[:100], np.angle(fft(s))[:100])\n",
    "plt.title(\"Zoom in\")\n",
    "plt.xlabel(\"Frequency (Hz)\")\n",
    "plt.ylabel(\"Phase\")\n",
    "plt.show()"
   ]
  },
  {
   "cell_type": "markdown",
   "id": "terminal-rainbow",
   "metadata": {},
   "source": [
    "The phase spectrum is harder to understand than the magnitude spectrum, but it is interesting to notice that abrupt phase changes occur at the frequencies composing our signal. In the shifted Fourier Domain, it is also important to notice that **the phase is a odd function**.\n",
    "\n",
    "**Notes about shifting the Fourier domain:** \n",
    "\n",
    "The **fftshift** function is used to pass **from unshifted to shifted** Fourier domain.\n",
    "\n",
    "The **ifftshift** function is used to pass **from shifted to unshifted** Fourier domain.\n",
    "\n",
    "For signals with an even number of samples, these 2 functions do exactly the same thing and interverting them does no harm. For signals with an odd number of samples, they should be used cautiously as some data might be misinterpreted in the process."
   ]
  },
  {
   "cell_type": "markdown",
   "id": "enhanced-track",
   "metadata": {},
   "source": [
    "### Aliasing and Nyquist-Shannon theorem"
   ]
  },
  {
   "cell_type": "markdown",
   "id": "distant-genome",
   "metadata": {},
   "source": [
    "We have seen that the Fourier Domain ranges from $0Hz$ to $F_s$, but what happens if some frequencies composing the signal are larger than the sampling frequency ?\n",
    "\n",
    "The animation below shows how the sampling frequency affects the acquisition of a $5Hz$ signal: "
   ]
  },
  {
   "cell_type": "code",
   "execution_count": null,
   "id": "f6290ea0",
   "metadata": {
    "scrolled": false
   },
   "outputs": [],
   "source": [
    "# Run this cell to load the widget\n",
    "aliasing_widget()\n",
    "\n",
    "# If the widget is not responding, run this cell again"
   ]
  },
  {
   "cell_type": "markdown",
   "id": "monetary-surname",
   "metadata": {},
   "source": [
    "We notice here that for $F_s > 10Hz$, the sampled signal progressively diverges from the original one as $F_s$ decreases, but we can still correctly estimate the original frequency. \n",
    "\n",
    "With a sampling frequency of $10Hz$ and lower, we completely miss some signal inversions. This means that we will not be able to correctly estimate the frequency of the original signal: **we will alias the true frequency of the signal for a lower one**, this is what we call **aliasing**.\n",
    "\n",
    "In order to avoid the aliasing phenomenon, Harry Nyquist and Claude Shannon stated that a signal should be acquired with a sampling frequency **at least twice as large as the maximum frequency comprised in the signal** ($F_{max}$), resulting in at least 2 samples per period, which is enough to not miss any inversion.\n",
    "\n",
    "<br><center style=\"font-family:Knuth; font-size:25px;\">  Nyquist-Shannon sampling condition: $ F_s > 2F_{max}$ </center><br>\n",
    "\n",
    "**Note:** At $F_s = 10Hz$, we observe a particular case where the samples are acquired at exactly every time the signal is null, resulting in a $0Hz$ (constant) sampled signal. This is a very unlucky situation (acquiring the samples a few ms later would have been enough to estimate the original frequency). This is why $F_s$ must be **strictly larger** than $2F_{max}$ in order to always avoid aliasing."
   ]
  },
  {
   "cell_type": "markdown",
   "id": "boolean-colombia",
   "metadata": {},
   "source": [
    "### Aliasing in the Fourier domain\n",
    "\n",
    "As we previously saw, the frequencies are repeated in the magnitude Fourier domain. This is due to a specific property of the Fourier domain: **It is theoretically infinite and repeats every $F_s$** (this is why the second part of the non-shifted Fourier domain can be shifted before the first half, resulting in the shifted representation).\n",
    "\n",
    "If $F_s$ does not respect the Nyquist-Shannon condition, the second occurence of the Fourier domain will overlap with the first one and this will result in a misinterpretation of the frequency content of the signal: we are once again in the presence of aliasing."
   ]
  },
  {
   "cell_type": "markdown",
   "id": "split-kitchen",
   "metadata": {},
   "source": [
    "# 2D Fourier transform of images\n",
    "\n",
    "For 2-dimensionnal $M\\times N$ signal (e.g. images), the discrete Fourier Transform formula becomes:\n",
    "\n",
    "$\\large S(k, l) = \\sum\\limits_{m=0}^{M-1}\\sum\\limits_{n=0}^{N-1} s(m, n)e^{-i2\\pi ( \\,\\frac{mk}{M}+\\frac{nl}{N}) \\,}, \\hspace{5mm} for \\hspace{5mm} 0 \\leqslant k \\ < M,\\hspace{5mm} 0 \\leqslant l \\ < N $\n",
    "\n",
    "The **2D inverse Fourier transform** is given by:\n",
    "\n",
    "$\\large s(m, n) = \\frac{1}{M*N}\\sum\\limits_{m=0}^{M-1}\\sum\\limits_{n=0}^{N-1} S(k, l)e^{i2\\pi ( \\,\\frac{mk}{M}+\\frac{nl}{N})}$\n",
    "\n",
    "From these formulas, we see that the 2D Fourier transform of an image will have the same size as the image, and will once again be complex.\n",
    "\n",
    "In 2D, the shifted/unshifted Fourier domains relate as follows: \n",
    "<figure><center>\n",
    "  <img src=\"./utils/images/2D_shift.jpg\" alt=\"Shifting in the 2D Fourier domain\" style=\"width:80%\">\n",
    "    <figcaption> <i>Shifting in the 2D Fourier domain</i> </figcaption></center>\n",
    "</figure>"
   ]
  },
  {
   "cell_type": "code",
   "execution_count": null,
   "id": "bright-metabolism",
   "metadata": {
    "scrolled": false
   },
   "outputs": [],
   "source": [
    "brain_image = mpimg.imread('./utils/images/brain_MRI.jpg') # Loading the MR image of the brain that will serve as an example\n",
    "brain_FFT = fft2(brain_image) # For images, we use fft2(), the 2D equivalent of fft()\n",
    "\n",
    "plt.figure(figsize=[15,7])\n",
    "plt.subplot(131); plt.imshow(brain_image); plt.title(\"Original image\"); plt.axis('off')\n",
    "plt.subplot(132); plt.imshow(np.log(np.abs(fftshift(brain_FFT)))); plt.title(\"2D shifted FFT of the image (magnitude)\"); plt.axis('off')\n",
    "plt.subplot(133); plt.imshow(np.angle(brain_FFT)); plt.title(\"2D shifted FFT of the image (phase)\"); plt.axis('off')\n",
    "plt.show()"
   ]
  },
  {
   "cell_type": "markdown",
   "id": "written-tractor",
   "metadata": {},
   "source": [
    "### High/low frequency components\n",
    "\n",
    "Similarly to the 1D case, the 2D shifted Fourier domain has the low frequency values in its middle, and the high frequency values on the edges.\n",
    "\n",
    "In the 2D Fourier domain:\n",
    "- The **$0Hz$ frequency** correspond to the **mean intensity** of the image. \n",
    "\n",
    "- **Low frequencies** correspond to slowly varying intensities across the image (big objects, light/shadows...).\n",
    "\n",
    "- **High frequencies** correspond to abrupt intensity variations (small objects, outlines...).\n",
    "\n"
   ]
  },
  {
   "cell_type": "code",
   "execution_count": null,
   "id": "executive-discovery",
   "metadata": {
    "scrolled": false
   },
   "outputs": [],
   "source": [
    "mask_center = np.zeros_like(brain_FFT)  # mask that only keeps the center of the FFT\n",
    "mask_center[brain_FFT.shape[0]//2-10:brain_FFT.shape[0]//2+10, brain_FFT.shape[1]//2-10:brain_FFT.shape[1]//2+10] = 1\n",
    "mask_edges = np.ones_like(brain_FFT)-mask_center # mask that only keeps the edges of the FFT\n",
    "\n",
    "brain_FFT_center = fftshift(brain_FFT)*mask_center # Apply masking to keep center of the FFT\n",
    "brain_FFT_edges = fftshift(brain_FFT)*mask_edges # Apply masking to keep edges of the FFT\n",
    "\n",
    "plt.figure(figsize=[20,12])\n",
    "plt.subplot(221); plt.imshow(np.log(fftshift(np.abs(brain_FFT)))*np.abs(mask_center)); plt.title(\"Shifted FFT (log of magnitude)\"); plt.axis('off')\n",
    "plt.subplot(222); plt.imshow(np.abs(ifft2(brain_FFT_center))); plt.title(\"Image obtained with the center of the FFT\"); plt.axis('off')\n",
    "plt.subplot(223); plt.imshow(np.log(fftshift(np.abs(brain_FFT)))*np.abs(mask_edges)); plt.title(\"Shifted FFT (log of magnitude)\"); plt.axis('off')\n",
    "plt.subplot(224); plt.imshow(np.abs(ifft2(brain_FFT_edges))); plt.title(\"Image obtained with the edges of the FFT\"); plt.axis('off')\n",
    "plt.show()"
   ]
  },
  {
   "cell_type": "markdown",
   "id": "freelance-container",
   "metadata": {},
   "source": [
    "On the images above, we observe that removing the edges of the FFT (i.e. keeping the low frequencies) results in a blurry images where only the general shapes can be distinguished. What we did here corresponds to a **low-pass filtering**.\n",
    "\n",
    "On the contrary, removing the center of the FFT yields a very detailed image with an important loss of intensity. What we did here corresponds to a **high-pass filtering**.\n",
    "\n",
    "This shows that the Fourier Transform is an interesting tool in order to perform image filtering. Compared to a spatial filtering that requires a 2D convolution of the image with a filtering elements, applying an FFT and filter by an element-wise multiplication will often be a much less computationnaly expensive solution."
   ]
  },
  {
   "cell_type": "markdown",
   "id": "84fae686",
   "metadata": {},
   "source": [
    "## Orientation of the frequencies in the image\n",
    "\n",
    "In 1D, all sinusoids are along the only axis available, but in 2D, periodic intensity variations can be oriented along any directions as illustrated on the image below:\n",
    "\n",
    "\n",
    "<img src=\"./utils/images/stripes.jpg\" alt=\"Stripes with different orientations and frequencies\" style=\"width:60%\">\n",
    "\n",
    "In the Fourier domain, the orientation of all the sinusoids composing the image is given by the angle around the 0Hz component, as shown by the code below:"
   ]
  },
  {
   "cell_type": "code",
   "execution_count": null,
   "id": "2e48c5e8",
   "metadata": {},
   "outputs": [],
   "source": [
    "dummy_FFT_1 = np.zeros_like(brain_FFT).astype(complex)\n",
    "dummy_FFT_1[50:60,50:60] = brain_FFT[50:60,50:60]\n",
    "\n",
    "dummy_FFT_2 = np.zeros_like(brain_FFT).astype(complex)\n",
    "dummy_FFT_2[-60:-50,50:60] = brain_FFT[-60:-50,50:60] \n",
    "\n",
    "plt.figure(figsize=[15,15])\n",
    "plt.subplot(221); plt.imshow(np.abs(fftshift(dummy_FFT_1))); plt.title('Shifted Fourier magnitude', fontsize=15)\n",
    "plt.subplot(222); plt.imshow(np.real(ifft2(dummy_FFT_1))); plt.title('Corresponding image', fontsize=15)\n",
    "plt.subplot(223); plt.imshow(np.abs(fftshift(dummy_FFT_2))); plt.title('Shifted Fourier magnitude', fontsize=15)\n",
    "plt.subplot(224); plt.imshow(np.real(ifft2(dummy_FFT_2))); plt.title('Corresponding image', fontsize=15)\n",
    "plt.show()"
   ]
  },
  {
   "cell_type": "markdown",
   "id": "69892275",
   "metadata": {},
   "source": [
    "The example above shows how, by only keeping values at a certain orientation in the k-space, the resulting image in only composed of stripes perpendicular to that orientation."
   ]
  },
  {
   "cell_type": "markdown",
   "id": "unable-albert",
   "metadata": {},
   "source": [
    "### Rotation in the Fourier domain\n",
    "\n",
    "It is now quite straightforward to understand that rotating the FFT would result in a rotated image:"
   ]
  },
  {
   "cell_type": "code",
   "execution_count": null,
   "id": "federal-butterfly",
   "metadata": {},
   "outputs": [],
   "source": [
    "brain_FFT_rotated = np.rot90(brain_FFT)\n",
    "\n",
    "plt.figure(figsize=[15,7])\n",
    "plt.subplot(121)\n",
    "plt.imshow(np.log(np.abs(fftshift(brain_FFT_rotated))))\n",
    "plt.title(\"FFT rotated by 90$\\degree$\")\n",
    "plt.subplot(122)\n",
    "plt.imshow(np.abs(ifft2(brain_FFT_rotated)))\n",
    "plt.title(\"Corresponding image\")\n",
    "plt.show()"
   ]
  },
  {
   "cell_type": "markdown",
   "id": "square-single",
   "metadata": {},
   "source": [
    "# Fourier related MRI artifacts\n",
    "\n",
    "In Magnetic Resonance Images, we use **gradient coils** in order to encode the spatial location of the spins in the Fourier Domain. \n",
    "\n",
    "Indeed, the spins rotate arround the main magnetic field $B_0$ of the scanner at a certain frequency $w_0$ (**Larmor Frequency**). The larmor frequency is related to the $B_0$ strength according to the formula below: \n",
    "<center>$\\omega_0 = \\gamma B_0$</center>\n",
    "\n",
    "This means that, by adding a spatial gradient to the $B_0$ field, the spins' rotation speed will spatially vary: **each frequency composing the measured signal relates to a specific point in space**. This process is called **frequency encoding**.\n",
    "\n",
    "But this frequency encoding only allows for a frequency variation along one direction (if we do the same thing in 2 directions, spins at different locations might precess at the same speed and the signals they emit will be undistinguishable). For this reason, the position along a second axis does not depend on the frequency, but on the phase of the spins that can also be controlled using magnetic gradients: that is the **phase encoding**.\n",
    "\n",
    "These two encoding processes allow for a primordial aspect of MR imaging: **the signal measured during an MRI scan corresponds to the k-space (or Fourier space) of the final image**.\n",
    "\n",
    "The image is thus obtained by performing an inverse Fourier transform on the acquired k-space.\n",
    "\n",
    "We will now show how this property might affect the MR images by presenting the different artifact that might arise due to the Fourier relation between the signal and the final image."
   ]
  },
  {
   "cell_type": "markdown",
   "id": "443b8c55",
   "metadata": {},
   "source": [
    "## Central Point Artifact\n",
    "\n",
    "A bright spot appears at the center of the image because a constant offset has been added to the measured k-space (the inverse Fourier transform of a uniform signal is a point at the $0Hz$ location).\n",
    "\n",
    "<br>\n",
    "<figure><center>\n",
    "  <div style=\"display: table;\">\n",
    "      <div style=\"  float:left ;width: 50%;\">\n",
    "          <img src=\"./utils/images/central_point1.jpg\" alt=\"Central Point example 1\" style=\"height:300px\">\n",
    "      </div>\n",
    "      <div style=\"  float: left;width: 50%;\">\n",
    "          <img src=\"./utils/images/central_point2.jpg\" alt=\"Central Point example 2\" style=\"height:300px\">\n",
    "      </div>\n",
    " </div>\n",
    " <figcaption> <i>Examples of central point artifacts</i> </figcaption></center>\n",
    "</figure>"
   ]
  },
  {
   "cell_type": "code",
   "execution_count": null,
   "id": "f59a85ec",
   "metadata": {},
   "outputs": [],
   "source": [
    "FFT_offset = fft2(ifftshift(brain_image))+0.00001*brain_FFT.max() # The offset added to the FFT is half of its maximum value\n",
    "brain_central_point = np.abs(fftshift(ifft2(FFT_offset)))\n",
    "\n",
    "plt.figure(figsize=[16,5])\n",
    "plt.subplot(141)\n",
    "plt.imshow(np.log(np.abs(fftshift(brain_FFT))))\n",
    "plt.title('Original FFT', fontsize=15)\n",
    "plt.subplot(142)\n",
    "plt.imshow(np.log(np.abs(fftshift(FFT_offset))))\n",
    "plt.title('FFT with offset', fontsize=15)\n",
    "plt.subplot(143)\n",
    "plt.imshow(brain_central_point)\n",
    "plt.title('Resulting image', fontsize=15)\n",
    "plt.subplot(144)\n",
    "plt.imshow(brain_central_point[230:281,230:281])\n",
    "# plt.imshow(brain_central_point[0:10,0:10])\n",
    "plt.title('Resulting image (zoom x10)', fontsize=15)\n",
    "plt.show()"
   ]
  },
  {
   "cell_type": "markdown",
   "id": "b43f4424",
   "metadata": {},
   "source": [
    "**What should we do to get rid of this central point ?**\n",
    "\n",
    "- Repeat the acquisition (the offset might be punctual),\n",
    "- Make sure that the temperature in the scanner and equipment room remains constant for receiver amplifiers,\n",
    "- Use a software to estimate the DC offset and adjust the k-space data accordingly,\n",
    "- Recalibrate the receiver chain."
   ]
  },
  {
   "cell_type": "markdown",
   "id": "c5459cd9",
   "metadata": {},
   "source": [
    "## Clipping artifact\n",
    "Also known as: **RF overflow artifact**.\n",
    "\n",
    "This artifact appears when the measured MR signal is too strong to be correctly digitized by the analog-to-digital converter (**high voltage values are clipped out**).\n",
    "\n",
    "This results in a non uniform intensity across the image, as the high values are usually the one corresponding to the low frequency components of the FT.\n",
    "\n",
    "<br>\n",
    "<figure><center>\n",
    "  <div style=\"display: table;\">\n",
    "      <div style=\"  float:left ;width: 50%;\">\n",
    "          <img src=\"./utils/images/clipping1.jpg\" alt=\"Clipping example 1\" style=\"height:300px\">\n",
    "      </div>\n",
    "      <div style=\"  float: left;width: 50%;\">\n",
    "          <img src=\"./utils/images/clipping2.jpg\" alt=\"lipping example 2\" style=\"height:300px\">\n",
    "      </div>\n",
    " </div>\n",
    " <figcaption> <i>Examples of clipping artifacts</i> </figcaption></center>\n",
    "</figure>\n",
    "\n",
    "The code below simulates this artifact by thresholding the high values present in the Fourier domain:"
   ]
  },
  {
   "cell_type": "code",
   "execution_count": null,
   "id": "3f0c6dc6",
   "metadata": {},
   "outputs": [],
   "source": [
    "threshold_ADC = 0.5*np.abs(brain_FFT).max() # Clips the FFT with a certain threshold relative to the max magnitude\n",
    "\n",
    "brain_FFT_clipped = copy.deepcopy(brain_FFT)\n",
    "brain_FFT_clipped[np.abs(brain_FFT) > threshold_ADC] = threshold_ADC\n",
    "\n",
    "brain_image_clipped = np.abs(ifft2(brain_FFT_clipped))\n",
    "\n",
    "plt.figure(figsize=[16,5])\n",
    "plt.subplot(121); plt.imshow(brain_image); plt.title('Original image', fontsize=15)\n",
    "plt.subplot(122); plt.imshow(brain_image_clipped); plt.title('Image obtained with clipping at $\\dfrac{max(|FT|)}{10}$', fontsize=15)\n",
    "plt.show()"
   ]
  },
  {
   "cell_type": "markdown",
   "id": "a648cefe",
   "metadata": {},
   "source": [
    "**How do we get rid of the clipping artifact ?**\n",
    "\n",
    "Reducing the gain before the Analog-to-Digital Conversion. This artifact is not likely to occur on modern scanners."
   ]
  },
  {
   "cell_type": "markdown",
   "id": "crude-anthony",
   "metadata": {},
   "source": [
    "## Herringbone artifact\n",
    "\n",
    "Also known as: **spike artifact**, **crisscross artifact**, or **corduroy artifact**.\n",
    "\n",
    "<br>\n",
    "<center>\n",
    "    <div style=\"display: table;\">\n",
    "        <div style=\"  float:left ;width: 33.33%;\">\n",
    "            <figure>\n",
    "                <img src=\"./utils/images/Herringbone_pattern.jpg\" alt=\"Herringbone Pattern\" style=\"height:250px\">\n",
    "                <figcaption> <i>Herringbone Pattern</i> </figcaption>\n",
    "            </figure>\n",
    "        </div>\n",
    "        <div style=\"  float: left;width: 33.33%;\">\n",
    "            <figure>\n",
    "                <img src=\"./utils/images/corduroy.jpg\" alt=\"Corduroy (textile)\" style=\"height:250px\">\n",
    "                <figcaption> <i>Corduroy (textile)</i> </figcaption>\n",
    "            </figure>\n",
    "        </div>\n",
    "        <div style=\"  float: left;width: 33.33%;\">\n",
    "            <figure>\n",
    "                <img src=\"./utils/images/spiking.jpg\" alt=\"Spike artefact\" style=\"height:250px\">\n",
    "                <figcaption> <i>Spike artefact</i> </figcaption>\n",
    "            </figure>\n",
    "        </div>\n",
    "    </div>\n",
    "</center>\n",
    "\n",
    "The Herringbone artifact **occurs when one or few point(s) in the k-space present an abnormally high value**. These \"spikes\" might be due to a punctual electrical discharge in the RF coils. This might be induced by the gradient coils or the MR room equipment for example.\n",
    "\n",
    "When inverse Fourier transforming the k-space, this results in **alterning black and white stripes across the image**. The angle of the stripes will depend on the angular position of the abnormal points in the k-space, and their spacing will depend on how far from the k-space center the point is. These properties are illustrated by the code below:"
   ]
  },
  {
   "cell_type": "code",
   "execution_count": null,
   "id": "30752c03",
   "metadata": {},
   "outputs": [],
   "source": [
    "# Vertical Spiking\n",
    "brain_FFT_vertical_spiking = copy.deepcopy(brain_FFT) # We create a copy of the original FFT\n",
    "brain_FFT_vertical_spiking[0, 10] = 1.5*brain_FFT.max() # We add a intense spike at [0, 10] in the unshifted Fourier domain\n",
    "brain_vertical_spiking = np.abs(ifft2(brain_FFT_vertical_spiking)) # iFFT yields an image with a vertical spiking artifact\n",
    "\n",
    "# Horizontal Spiking\n",
    "brain_FFT_horizontal_spiking = copy.deepcopy(brain_FFT) # We create a copy of the original FFT\n",
    "brain_FFT_horizontal_spiking[20, 0] = 1.5 * brain_FFT.max() # We add a intense spike at [20, 0] in the unshifted Fourier domain\n",
    "brain_horizontal_spiking = np.abs(ifft2(brain_FFT_horizontal_spiking)) # iFFT yields an image with a horizontal spiking artifact\n",
    "\n",
    "# Diagonal Spiking\n",
    "brain_FFT_diagonal_spiking = copy.deepcopy(brain_FFT) # We create a copy of the original FFT\n",
    "brain_FFT_diagonal_spiking[15, 15] = 1.5 * brain_FFT.max() # We add a intense spike at [15, 15] in the unshifted Fourier domain\n",
    "brain_diagonal_spiking = np.abs(ifft2(brain_FFT_diagonal_spiking)) # iFFT yields an image with a diagonal spiking artifact\n",
    "\n",
    "plt.figure(figsize=(15, 10))\n",
    "plt.subplot(2, 3, 1); plt.imshow(np.abs(fftshift(brain_FFT_vertical_spiking)[230:282,230:282])); plt.title('FFT (zoomed) with spike at [10, 0]'); plt.axis('off')\n",
    "plt.subplot(2, 3, 2); plt.imshow(np.abs(fftshift(brain_FFT_horizontal_spiking)[230:282,230:282])); plt.title('FFT (zoomed) with spike at [0, 20]'); plt.axis('off')\n",
    "plt.subplot(2, 3, 3); plt.imshow(np.abs(fftshift(brain_FFT_diagonal_spiking)[230:282,230:282])); plt.title('FFT (zoomed) with spike at [15, 15]'); plt.axis('off')\n",
    "plt.subplot(2, 3, 4); plt.imshow(brain_vertical_spiking); plt.title('Vertical spiking'); plt.axis('off')\n",
    "plt.subplot(2, 3, 5); plt.imshow(brain_horizontal_spiking); plt.title('Horizontal spiking'); plt.axis('off')\n",
    "plt.subplot(2, 3, 6); plt.imshow(brain_diagonal_spiking); plt.title('Diagonal spiking'); plt.axis('off')\n",
    "plt.show()"
   ]
  },
  {
   "cell_type": "markdown",
   "id": "88a361ad",
   "metadata": {},
   "source": [
    "**How do we get rid of the Herringbone artifact ?**\n",
    "\n",
    "The best way to avoid these artifact is to limit the possibilities of induced current in the RF coil (shielding, increasing the distance to other electrical devices...). Spiking artifact are not likely to happen every time so a new acquisition will usually be enough to get rid of them, at the cost of additional scanning time.\n",
    "\n",
    "**Note:** Similarly, dark strips across the image might also appear when k-space data are missing and fill with zero. This is called a **zero-fill artifact**."
   ]
  },
  {
   "cell_type": "markdown",
   "id": "appropriate-water",
   "metadata": {},
   "source": [
    "## Wrap-around Artifact\n",
    "\n",
    "Also known as: **Aliasing** or **Fold-over artifact**.\n",
    "\n",
    "The wrap-around artifact occurs when the size of the imaged object exceeds the field-of-view (FOV) of the acquisition. The parts of the object located outside the FOV are folded over on the edges of the image.\n",
    "\n",
    "This happens when high frequency signals coming from outside of the FOV are aliased for frequencies located inside of the FOV (smaller frequencies). The signal coming from the spins outside of the FOV will thus be seen as coming from inside and appear in the image. As we previously saw, aliasing occurs when the sampling-frequency is too low compared to the maximum frequency of the signal.\n",
    "\n",
    "On modern scanners, this usually only occurs in the phase direction (phase wrap-around), as the sampling rate in the frequency direction is high enough to **oversample** the signal and avoid aliasing along this direction. Aliasing in the frequency encoding direction can be further reduced by **bandpass filtering**, where frequencies outside of the FOV are filtered out.\n",
    "\n",
    "<br>\n",
    "<figure><center>\n",
    "  <div style=\"display: table;\">\n",
    "      <div style=\"  float:left ;width: 33.33%;\">\n",
    "          <img src=\"./utils/images/wrap_around1.jpg\" alt=\"Wrap-around example 1\" style=\"height:250px\">\n",
    "      </div>\n",
    "      <div style=\"  float: left;width: 33.33%;\">\n",
    "          <img src=\"./utils/images/wrap_around2.jpg\" alt=\"Wrap-around example 2\"  style=\"height:250px\">\n",
    "      </div>\n",
    "      <div style=\"  float: left;width: 33.33%;\">\n",
    "          <img src=\"./utils/images/wrap_around3.jpg\" alt=\"Wrap-around example 3\"  style=\"height:250px\">\n",
    "      </div>\n",
    " </div>\n",
    " <figcaption> <i>Examples of wrap-around artifacts</i> </figcaption></center>\n",
    "</figure>\n",
    "\n",
    "The code below simulates wrap around artefact by undersampling the k-space along one dimension:"
   ]
  },
  {
   "cell_type": "code",
   "execution_count": null,
   "id": "4bdb3771",
   "metadata": {},
   "outputs": [],
   "source": [
    "brain_FFT_undersampled_1 = fft2(ifftshift(brain_image))[1::2,:] # Undersample the FFT along the first dimension (1 line out of 2)\n",
    "brain_FFT_undersampled_2 = fft2(ifftshift(brain_image))[:,1::2] # Undersample the FFT along the second dimension (1 column out of 2)\n",
    "\n",
    "plt.figure(figsize=[15, 12], tight_layout=dict({'h_pad':0}))\n",
    "plt.subplot(221); plt.imshow(np.log(np.abs(fftshift(brain_FFT_undersampled_1)))); plt.title(\"FFT undersampled along the first dimension\", fontsize=15)\n",
    "plt.subplot(222); plt.imshow(np.abs(fftshift(ifft2(brain_FFT_undersampled_1)))); plt.title(\"Corresponding image with vertical wrap-around\", fontsize=15)\n",
    "plt.subplot(223); plt.imshow(np.log(np.abs(fftshift(brain_FFT_undersampled_2)))); plt.title(\"FFT undersampled along the second dimension\", fontsize=15)\n",
    "plt.subplot(224); plt.imshow(np.abs(fftshift(ifft2(brain_FFT_undersampled_2)))); plt.title(\"Corresponding image with horizontal wrap-around\", fontsize=15)\n",
    "plt.show()"
   ]
  },
  {
   "cell_type": "markdown",
   "id": "ea6a5de6",
   "metadata": {},
   "source": [
    "**How do we get rid of the wrap-around artifact ?**\n",
    "\n",
    "- Increasing the FOV so it contains the whole object (increases image resolution or scanning time),\n",
    "- Swapping the phase and frequency encoding directions (for longitudinal objects) so that larger dimensions are along the frequency encoding direction,\n",
    "- Using surface coils that do not detect the signal outside of the FOV,\n",
    "- Applying saturation bands in order to null the signal outside of the FOV,\n",
    "- Oversampling in the phase-direction (increase FOV, increase phase encoding steps, reduce number of excitations, only reconstruct center of FOV)."
   ]
  },
  {
   "cell_type": "markdown",
   "id": "2152b3dd",
   "metadata": {},
   "source": [
    "## Nyquist N/2 Ghosting\n",
    "\n",
    "Also known as: **Three Brains Artifact** (in head RI.)\n",
    "\n",
    "This artifact is commonly observed in EPI sequences (where the k-space is filled with a zig-zag trajectory). This is generally caused by eddy current-induced phase shifts between 2 alternate k-space lines and results in an aliased imaged shifted by N/2 pixels in the phase-encoding direction. \n",
    "\n",
    "These artifacts can sometimes also be the result of patient motion, receiver filter asymmetry, suceptibility variations, poor shimming, oblique slices (with unsynchronized gradient switches) and any other phenomenom that could induce phase shifts in the k-space.\n",
    "\n",
    "<br>\n",
    "<figure><center>\n",
    "  <div style=\"display: table;\">\n",
    "      <div style=\"  float:left ;width: 33.33%;\">\n",
    "          <img src=\"./utils/images/Nyquist1.jpg\" alt=\"Nyquist ghost example 1\" style=\"height:250px\">\n",
    "      </div>\n",
    "      <div style=\"  float: left;width: 33.33%;\">\n",
    "          <img src=\"./utils/images/Nyquist2.jpg\" alt=\"Nyquist ghost example 2\"  style=\"height:250px\">\n",
    "      </div>\n",
    "      <div style=\"  float: left;width: 33.33%;\">\n",
    "          <img src=\"./utils/images/Nyquist3.jpg\" alt=\"Nyquist ghost example 3\"  style=\"height:250px\">\n",
    "      </div>\n",
    " </div>\n",
    " <figcaption> <i>Examples of Nyquist N/2 ghosting</i> </figcaption></center>\n",
    "</figure>"
   ]
  },
  {
   "cell_type": "code",
   "execution_count": null,
   "id": "ab6e89eb",
   "metadata": {},
   "outputs": [],
   "source": [
    "# Function to apply Nyquist Ghosting to an image. The phase shift to apply must be specified\n",
    "def nyquist_ghost(image, shift):\n",
    "    FFT_ghosted = fft2(ifftshift(image))\n",
    "    shifted_phase = np.angle(FFT_ghosted)\n",
    "    shifted_phase[::2,:] = np.angle(FFT_ghosted)[::2,:] + shift # Add the phase shift to 1 line out of 2\n",
    "    return np.abs(fftshift(ifft2(np.abs(FFT_ghosted)*np.exp(1j*shifted_phase)))) # Return the ghosted image (shifted) \n",
    "\n",
    "plt.figure(figsize=[14, 10],  tight_layout=dict({'w_pad':1}))\n",
    "plt.subplot(221); plt.imshow(nyquist_ghost(brain_image, 0.5)); plt.title(\"Nyquist ghosting with a 0.5 rad phase shift\", fontsize=15)\n",
    "plt.subplot(222); plt.imshow(nyquist_ghost(brain_image, 1)); plt.title(\"Nyquist ghosting with a 1 rad phase shift\", fontsize=15); \n",
    "plt.subplot(223); plt.imshow(nyquist_ghost(brain_image, np.pi)); plt.title(\"Nyquist ghosting with a $\\pi$ rad phase shift\", fontsize=15)\n",
    "plt.subplot(224); plt.imshow(nyquist_ghost(brain_image, 2*np.pi)); plt.title(\"Nyquist ghosting with a $2\\pi$ rad phase shift\", fontsize=15)\n",
    "plt.show()"
   ]
  },
  {
   "cell_type": "markdown",
   "id": "1c742830",
   "metadata": {},
   "source": [
    "**How to eliminate/reduce Nyquist Ghosting ?**\n",
    "\n",
    "The different applicable methods depend on what causes the Nyquist ghosting.\n",
    "\n",
    "- Lowering the phase encoding resolution,\n",
    "- Reducing the echo train length of the EPI sequence,\n",
    "- Using parallel imaging\n",
    "- Re-shimming..."
   ]
  },
  {
   "cell_type": "markdown",
   "id": "instant-companion",
   "metadata": {},
   "source": [
    "## Gibbs artifact\n",
    "\n",
    "Also known as: **truncation**, **ringing** or **spectral leakage artifacts**.\n",
    "\n",
    "Gibbs artifacts manifests themselves by the apparition of ripple around high contrast interfaces. \n",
    "\n",
    "As you might have seen in the **Square-signal decomposition interactive animation**, approximating a square signal without enough sinusoids results in the apparition of \"ripples\" at the top of the square signal. In the image domain, having a high intensity region right beside a low intensity region can be assimilated to a square signal and thus requires an infinite number of k-space samples in order to be perfectly reconstructed. As we are limited in the number of samples acquired in the Fourier domain, we might not have enough information to correctly reconstruct this high contrast interface during the inverse Fourier transform process. This is why ripples might appear around highly contrasted regions.\n",
    "\n",
    "<br>\n",
    "<figure><center>\n",
    "  <div style=\"display: table;\">\n",
    "      <div style=\"  float:left ;width: 33.33%;\">\n",
    "          <img src=\"./utils/images/Gibbs1.jpg\" alt=\"Gibbs artifact example 1\" style=\"height:250px\">\n",
    "      </div>\n",
    "      <div style=\"  float: left;width: 33.33%;\">\n",
    "          <img src=\"./utils/images/Gibbs2.jpg\" alt=\"Gibbs artifact example 2\"  style=\"height:250px\">\n",
    "      </div>\n",
    "      <div style=\"  float: left;width: 33.33%;\">\n",
    "          <img src=\"./utils/images/Gibbs3.jpg\" alt=\"Gibbs artifact example 3\"  style=\"height:250px\">\n",
    "      </div>\n",
    " </div>\n",
    " <figcaption> <i>Examples of Gibbs artefacts</i> </figcaption></center>\n",
    "</figure>"
   ]
  },
  {
   "cell_type": "code",
   "execution_count": null,
   "id": "18be1222",
   "metadata": {},
   "outputs": [],
   "source": [
    "brain_FFT_gibbs = fftshift(fft2(ifftshift(brain_image)))\n",
    "\n",
    "for i in range(512):\n",
    "    for j in range(512):\n",
    "        if ((i-256)**2+(j-256)**2) > 5000:\n",
    "            brain_FFT_gibbs[i, j] = 0 # Removing FFT values on the edges to simulate a lack of data\n",
    "            \n",
    "brain_image_gibbs = np.abs(fftshift(ifft2(ifftshift(brain_FFT_gibbs))))\n",
    "    \n",
    "plt.figure(figsize=[15,5])\n",
    "plt.subplot(131); plt.imshow(brain_image); plt.title('Original image', fontsize=15); plt.axis('off')\n",
    "plt.subplot(132); plt.imshow(brain_image_gibbs); plt.title('Image with Gibbs artifacts', fontsize=15); plt.axis('off')\n",
    "plt.subplot(133); plt.imshow(brain_image_gibbs[100:250, 250:400]); plt.title('Zoom', fontsize=15); plt.axis('off'); plt.axis('off')\n",
    "plt.show()"
   ]
  },
  {
   "cell_type": "markdown",
   "id": "76a28458",
   "metadata": {},
   "source": [
    "**What can be done to reduce the Gibbs artifacts** ?\n",
    "\n",
    "- Reducing the Field of view,\n",
    "- Increasing the number of encoding steps, \n",
    "- Filtering the k-space (e.g. with a Hamming window) before processing,\n",
    "- Supress signal from tissues involved in high-contrast boundaries (e.g. fat suppression)."
   ]
  },
  {
   "cell_type": "markdown",
   "id": "1eec9fd7",
   "metadata": {},
   "source": [
    "## Zipper Artifact\n",
    "\n",
    "These artifacts occur when external RF sources (radio, light, surrounding electronic devices...) interfere with the scanner's receive chain. When inverse transformed, this additional signal results in linear artifacts perpendicular to the frequency encoding direction.\n",
    "\n",
    "The position of the artifact on the frequency encoding direction will depend on the frequency of the external RF signal\n",
    "\n",
    "<br>\n",
    "<figure><center>\n",
    "  <div style=\"display: table;\">\n",
    "      <div style=\"  float:left ;width: 33.33%;\">\n",
    "          <img src=\"./utils/images/zipper1.jpg\" alt=\"Zipper artifact example 1\" style=\"height:250px\">\n",
    "      </div>\n",
    "      <div style=\"  float: left;width: 33.33%;\">\n",
    "          <img src=\"./utils/images/zipper2.jpg\" alt=\"Zipper artifact example 2\"  style=\"height:250px\">\n",
    "      </div>\n",
    "      <div style=\"  float: left;width: 33.33%;\">\n",
    "          <img src=\"./utils/images/zipper3.jpg\" alt=\"Zipper artifact example 3\"  style=\"height:250px\">\n",
    "      </div>\n",
    " </div>\n",
    " <figcaption> <i>Examples of Zipper artefacts</i> </figcaption></center>\n",
    "</figure>"
   ]
  },
  {
   "cell_type": "code",
   "execution_count": null,
   "id": "dd7df193",
   "metadata": {
    "scrolled": false
   },
   "outputs": [],
   "source": [
    "brain_FFT_zipper = fft2(ifftshift(brain_image))\n",
    "\n",
    "# Defining an external complex RF signal and shaping it as the image to mimic k-space acquisition\n",
    "RF_external = 8000*np.exp(1j*(np.linspace(0, 112640, 512*512))) # Parameters are chosen to result in a visible artifact\n",
    "RF_external = np.reshape(RF_external, (512,512))\n",
    "\n",
    "# Adding RF signal to 10 lines of k-space \n",
    "brain_FFT_zipper[100:110,:]  += RF_external[100:110,:]\n",
    "\n",
    "brain_image_zipper = np.abs(fftshift(ifft2(brain_FFT_zipper)))\n",
    "plt.figure(figsize=[15,15])\n",
    "plt.subplot(221); plt.imshow(np.log(np.abs(fftshift(brain_FFT_zipper)))); plt.title(\"$ln|S(k_x, k_y)+RF|$ (RF added on 10 lines only)\", fontsize=15); plt.axis('off')\n",
    "plt.subplot(222); plt.imshow(np.real(RF_external)); plt.title(\"real(RF)\", fontsize=15), plt.axis('off')\n",
    "plt.subplot(223); plt.imshow(brain_image_zipper); plt.title(\"Image with a zipper artifact\", fontsize=15); plt.axis('off')\n",
    "plt.subplot(224); plt.imshow(brain_image_zipper[200:312,200:312]); plt.title(\"Zoom on the zipper artifact\", fontsize=15), plt.axis('off')\n",
    "plt.show()"
   ]
  },
  {
   "cell_type": "markdown",
   "id": "15709862",
   "metadata": {},
   "source": [
    "**How to limit the zipper artifacts**:\n",
    "\n",
    "- Prevent the exteral RF waves to reach the scanner room by improving the RF-shielding,\n",
    "- Remove non-essential electronic devices from the scanning room."
   ]
  },
  {
   "cell_type": "markdown",
   "id": "bd69da61",
   "metadata": {},
   "source": [
    "## Ressources and references\n",
    "\n",
    "- [Questions and answers in MRI: MR Artifacts](http://mriquestions.com/hellipmr-artifacts.html)\n",
    "- [Radiopaedia: MRI artifacts](https://radiopaedia.org/articles/mri-artifacts-1?lang=us)\n",
    "- [Wikipedia: Joseph Fourier](https://en.wikipedia.org/wiki/Joseph_Fourier)"
   ]
  }
 ],
 "metadata": {
  "celltoolbar": "Format de la Cellule Texte Brut",
  "kernelspec": {
   "display_name": "Python 3",
   "language": "python",
   "name": "python3"
  },
  "language_info": {
   "codemirror_mode": {
    "name": "ipython",
    "version": 3
   },
   "file_extension": ".py",
   "mimetype": "text/x-python",
   "name": "python",
   "nbconvert_exporter": "python",
   "pygments_lexer": "ipython3",
   "version": "3.8.10"
  }
 },
 "nbformat": 4,
 "nbformat_minor": 5
}
